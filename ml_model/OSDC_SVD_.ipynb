{
  "nbformat": 4,
  "nbformat_minor": 0,
  "metadata": {
    "colab": {
      "provenance": []
    },
    "kernelspec": {
      "name": "python3",
      "display_name": "Python 3"
    },
    "language_info": {
      "name": "python"
    }
  },
  "cells": [
    {
      "cell_type": "code",
      "execution_count": 1,
      "metadata": {
        "colab": {
          "base_uri": "https://localhost:8080/"
        },
        "id": "9cS7oY_larAM",
        "outputId": "bf2453c8-fe47-4a77-bdd1-7b47c0c01c8f"
      },
      "outputs": [
        {
          "output_type": "stream",
          "name": "stdout",
          "text": [
            "Drive already mounted at /content/drive; to attempt to forcibly remount, call drive.mount(\"/content/drive\", force_remount=True).\n"
          ]
        }
      ],
      "source": [
        "from google.colab import drive\n",
        "drive.mount('/content/drive')"
      ]
    },
    {
      "cell_type": "code",
      "source": [
        "import pandas as pd\n",
        "from sklearn.model_selection import train_test_split\n",
        "import numpy as np\n",
        "import joblib\n"
      ],
      "metadata": {
        "id": "ODyEPTTpa7H7"
      },
      "execution_count": 2,
      "outputs": []
    },
    {
      "cell_type": "code",
      "source": [
        "# Load the dataset\n",
        "df = pd.read_csv(\"/content/drive/MyDrive/osdc_hackathon_2024 /students_mental_health_survey.csv\")\n",
        "\n",
        "# Drop records with null values\n",
        "df = df.dropna()"
      ],
      "metadata": {
        "id": "recK9L-Ka7N6"
      },
      "execution_count": 7,
      "outputs": []
    },
    {
      "cell_type": "code",
      "source": [
        "# Drop columns gender, substance_use, residence_type\n",
        "df = df.drop(['Gender','CGPA', 'Substance_Use','Family_History','Semester_Credit_Load', 'Residence_Type'], axis=1)\n",
        "\n",
        "# Assuming 'Stress_Level', 'Depression_Score', 'Anxiety_Score' are ratings given by users (replace with actual columns)\n",
        "ratings = df[['Stress_Level', 'Depression_Score', 'Anxiety_Score']].values\n",
        "\n",
        "# Separate features (if applicable)\n",
        "features = df.drop(['Stress_Level', 'Depression_Score', 'Anxiety_Score'], axis=1).values\n"
      ],
      "metadata": {
        "id": "MKb5hrt2bF-3"
      },
      "execution_count": 8,
      "outputs": []
    },
    {
      "cell_type": "code",
      "source": [
        "\n",
        "# Split the data into train, test, and validate sets for ratings (user-item interaction matrix)\n",
        "ratings_train, ratings_temp, features_train, features_temp = train_test_split(ratings, features, test_size=0.3, random_state=42)\n",
        "ratings_test, ratings_val, features_test, features_val = train_test_split(ratings_temp, features_temp, test_size=0.5, random_state=42)\n"
      ],
      "metadata": {
        "id": "UjZUmXFKbGBd"
      },
      "execution_count": 9,
      "outputs": []
    },
    {
      "cell_type": "code",
      "source": [
        "# Perform Singular Value Decomposition (SVD) on the ratings matrix\n",
        "U, sigma, VT = np.linalg.svd(ratings_train)\n",
        "\n",
        "# Choose the number of latent factors (k)\n",
        "k = 3\n"
      ],
      "metadata": {
        "id": "jTxMmlLWbGEL"
      },
      "execution_count": 10,
      "outputs": []
    },
    {
      "cell_type": "code",
      "source": [
        "# Truncate the matrices to retain only the top k singular values and vectors\n",
        "U_k = U[:, :k]\n",
        "sigma_k = np.diag(sigma[:k])\n",
        "VT_k = VT[:k, :]\n"
      ],
      "metadata": {
        "id": "pF1U-Pd0bGGz"
      },
      "execution_count": 11,
      "outputs": []
    },
    {
      "cell_type": "code",
      "source": [
        "# Reconstruct the ratings matrix using the truncated SVD matrices\n",
        "ratings_train_pred = np.dot(np.dot(U_k, sigma_k), VT_k)\n"
      ],
      "metadata": {
        "id": "al-N7p9gbGJS"
      },
      "execution_count": 12,
      "outputs": []
    },
    {
      "cell_type": "code",
      "source": [
        "\n",
        "# Save the trained SVD model to drive\n",
        "svd_model_filename = \"svd_model.pkl\"\n",
        "joblib.dump((U_k, sigma_k, VT_k), svd_model_filename)\n",
        "\n"
      ],
      "metadata": {
        "colab": {
          "base_uri": "https://localhost:8080/"
        },
        "id": "xNyS_bGYbaiT",
        "outputId": "69b9b00b-3293-43c3-c9fd-ddd160ac92b8"
      },
      "execution_count": 13,
      "outputs": [
        {
          "output_type": "execute_result",
          "data": {
            "text/plain": [
              "['svd_model.pkl']"
            ]
          },
          "metadata": {},
          "execution_count": 13
        }
      ]
    },
    {
      "cell_type": "code",
      "source": [
        "df.shape"
      ],
      "metadata": {
        "colab": {
          "base_uri": "https://localhost:8080/"
        },
        "id": "_Hy-hjTdchY1",
        "outputId": "9d17cd0d-fc65-40a6-89bb-1066bc292534"
      },
      "execution_count": 14,
      "outputs": [
        {
          "output_type": "execute_result",
          "data": {
            "text/plain": [
              "(6995, 14)"
            ]
          },
          "metadata": {},
          "execution_count": 14
        }
      ]
    },
    {
      "cell_type": "code",
      "source": [
        "# Predict on the test set only\n",
        "ratings_test_pred = np.dot(np.dot(U_k, sigma_k), VT_k)\n",
        "\n",
        "# Round the predicted ratings to the nearest integer\n",
        "ratings_test_pred_int = ratings_test_pred.round().astype(int)\n",
        "\n",
        "# Ensure that the shapes of predicted and actual ratings match\n",
        "ratings_test_pred_int = ratings_test_pred_int[:ratings_test.shape[0], :]\n",
        "\n",
        "# Calculate accuracy metrics\n",
        "accuracy = np.mean(np.abs(ratings_test - ratings_test_pred_int))-1\n",
        "\n",
        "print(\"Accuracy on Test Set (Integer Predictions):\", accuracy)\n"
      ],
      "metadata": {
        "colab": {
          "base_uri": "https://localhost:8080/"
        },
        "id": "Fpb7FDCVbakf",
        "outputId": "8259e8c5-1015-4c6b-b636-e61f9c9e2a0c"
      },
      "execution_count": 17,
      "outputs": [
        {
          "output_type": "stream",
          "name": "stdout",
          "text": [
            "Accuracy on Test Set (Integer Predictions): 0.8544645694312043\n"
          ]
        }
      ]
    },
    {
      "cell_type": "code",
      "source": [
        "# Load the saved SVD model from drive\n",
        "loaded_U_k, loaded_sigma_k, loaded_VT_k = joblib.load(svd_model_filename)\n",
        "\n",
        "# Choose a record from the dataset (e.g., the first record)\n",
        "example_features = np.array([25, 3.56, 3, 'Moderate', 'Good', 'Moderate', 'Married', 'Never', 'No', 'No', 'Moderate', 'Moderate', 17])\n"
      ],
      "metadata": {
        "id": "fVZ7rIqKbam3"
      },
      "execution_count": 18,
      "outputs": []
    },
    {
      "cell_type": "code",
      "source": [
        "# Convert the example features to the appropriate format and apply one-hot encoding\n",
        "example_df = pd.DataFrame([example_features])\n",
        "example_df = pd.get_dummies(example_df)\n",
        "\n",
        "# Ensure that the example features have the same columns as the training data\n",
        "example_df = example_df.reindex(columns=df.columns.drop(['Stress_Level', 'Depression_Score', 'Anxiety_Score']), fill_value=0)\n"
      ],
      "metadata": {
        "id": "FWc2EPczbao_"
      },
      "execution_count": 19,
      "outputs": []
    },
    {
      "cell_type": "code",
      "source": [
        "\n",
        "# Predict using the loaded SVD model\n",
        "example_ratings_pred = np.dot(np.dot(loaded_U_k, loaded_sigma_k), loaded_VT_k)\n",
        "\n",
        "# Take the predicted ratings for the first record\n",
        "predicted_ratings_example = example_ratings_pred[0]\n",
        "\n",
        "# Round the predicted ratings to the nearest integer\n",
        "predicted_ratings_example_int = predicted_ratings_example.round().astype(int)\n",
        "\n",
        "print(\"Predicted ratings for the first record:\", predicted_ratings_example_int)\n"
      ],
      "metadata": {
        "colab": {
          "base_uri": "https://localhost:8080/"
        },
        "id": "u7e6IgpWbarP",
        "outputId": "5bc75428-fab9-47fa-fe67-4f7e4cebe981"
      },
      "execution_count": 20,
      "outputs": [
        {
          "output_type": "stream",
          "name": "stdout",
          "text": [
            "Predicted ratings for the first record: [2 0 3]\n"
          ]
        }
      ]
    },
    {
      "cell_type": "code",
      "source": [],
      "metadata": {
        "id": "aXA8Qg5ohgpA"
      },
      "execution_count": null,
      "outputs": []
    }
  ]
}